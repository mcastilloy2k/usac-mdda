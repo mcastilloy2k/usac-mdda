{
 "cells": [
  {
   "cell_type": "markdown",
   "id": "0a684182",
   "metadata": {},
   "source": [
    "# Documentacion de Pandas\n",
    "\n",
    "https://pandas.pydata.org/docs/user_guide/10min.html"
   ]
  },
  {
   "cell_type": "code",
   "execution_count": null,
   "id": "b4b491b4",
   "metadata": {},
   "outputs": [],
   "source": [
    "import pandas as pd"
   ]
  },
  {
   "cell_type": "code",
   "execution_count": null,
   "id": "ac853587",
   "metadata": {},
   "outputs": [],
   "source": [
    "df = pd.read_csv('archive.zip', compression='zip', header=0, sep=',', quotechar='\"')"
   ]
  },
  {
   "cell_type": "code",
   "execution_count": null,
   "id": "cae69e5f",
   "metadata": {},
   "outputs": [],
   "source": [
    "df.head()\n",
    "df.info(memory_usage=\"deep\")"
   ]
  },
  {
   "cell_type": "code",
   "execution_count": null,
   "id": "bc51c3b9",
   "metadata": {},
   "outputs": [],
   "source": [
    "df.loc[~df.license.isnull()]"
   ]
  },
  {
   "cell_type": "code",
   "execution_count": null,
   "id": "36895046",
   "metadata": {},
   "outputs": [],
   "source": [
    "#low memory solo funciona con el engine de C para numpy.  Por defecto pandas usa pyarrow.  Tambien esta el motor de python\n",
    "#que es mas flexible pero mas lento\n",
    "#Pandas no soporta fechas en su casting desde csv, hay que user el parametro parse_dates para indicar que columnas son fechas\n",
    "parse_dates=['last review']\n",
    "dtypes = {'license': str}\n",
    "df = pd.read_csv('archive.zip', compression='zip', header=0, sep=',', quotechar='\"', dtype=dtypes, parse_dates=parse_dates)\n",
    "df.head()"
   ]
  },
  {
   "cell_type": "code",
   "execution_count": null,
   "id": "64e8876d",
   "metadata": {},
   "outputs": [],
   "source": [
    "df.info(memory_usage=\"deep\")"
   ]
  },
  {
   "cell_type": "code",
   "execution_count": null,
   "id": "6b375926",
   "metadata": {},
   "outputs": [],
   "source": [
    "#Conteo de nulls por columna\n",
    "df_nulls = df.isnull().sum().sort_values(ascending=False).to_frame('count')\n",
    "#Conteo total de filas\n",
    "df_nulls['total'] = df.shape[0]\n",
    "#% de columnas vacias\n",
    "df_nulls['%'] = df_nulls['count']/df_nulls['total']\n",
    "df_nulls"
   ]
  },
  {
   "cell_type": "code",
   "execution_count": null,
   "id": "fbe0d3de",
   "metadata": {},
   "outputs": [],
   "source": [
    "df.drop('license', axis=1, inplace=True)"
   ]
  },
  {
   "cell_type": "code",
   "execution_count": null,
   "id": "5b04261a",
   "metadata": {},
   "outputs": [],
   "source": [
    "df.info(memory_usage=\"deep\")"
   ]
  },
  {
   "cell_type": "code",
   "execution_count": null,
   "id": "31572c7b",
   "metadata": {
    "scrolled": true
   },
   "outputs": [],
   "source": [
    "#Revisar los outliers con un simple min y max\n",
    "df.agg([min, max])"
   ]
  },
  {
   "cell_type": "code",
   "execution_count": null,
   "id": "3e4850db",
   "metadata": {},
   "outputs": [],
   "source": [
    "df['price'] = pd.to_numeric(df['price'].str.replace('$','', regex=False), errors='coerce')"
   ]
  },
  {
   "cell_type": "code",
   "execution_count": null,
   "id": "f18ae6f6",
   "metadata": {},
   "outputs": [],
   "source": [
    "df['service fee'] = pd.to_numeric(df['service fee'].str.replace('$','', regex=False), errors='coerce')"
   ]
  },
  {
   "cell_type": "code",
   "execution_count": null,
   "id": "77e5e14d",
   "metadata": {},
   "outputs": [],
   "source": [
    "df.agg([min, max])"
   ]
  },
  {
   "cell_type": "code",
   "execution_count": null,
   "id": "d26ac8a4",
   "metadata": {
    "scrolled": true
   },
   "outputs": [],
   "source": [
    "df[df['last review'].apply(lambda x: x.year) > 2022]"
   ]
  },
  {
   "cell_type": "code",
   "execution_count": null,
   "id": "72928197",
   "metadata": {},
   "outputs": [],
   "source": [
    "df = df[df['last review'].apply(lambda x: x.year) <= 2022]\n",
    "df"
   ]
  },
  {
   "cell_type": "code",
   "execution_count": null,
   "id": "4aca92d8",
   "metadata": {},
   "outputs": [],
   "source": [
    "#Revisar duplicados\n",
    "df.duplicated().sum()"
   ]
  },
  {
   "cell_type": "code",
   "execution_count": null,
   "id": "3fa275cf",
   "metadata": {},
   "outputs": [],
   "source": [
    "df.duplicated(subset=['host name', 'lat', 'long']).sum()"
   ]
  },
  {
   "cell_type": "code",
   "execution_count": null,
   "id": "c52c2b4c",
   "metadata": {},
   "outputs": [],
   "source": [
    "df.drop_duplicates(subset=['host name', 'lat', 'long'], inplace=True)"
   ]
  },
  {
   "cell_type": "code",
   "execution_count": null,
   "id": "f195a806",
   "metadata": {},
   "outputs": [],
   "source": [
    "df.info(memory_usage=\"deep\")"
   ]
  },
  {
   "cell_type": "code",
   "execution_count": null,
   "id": "9502005f",
   "metadata": {},
   "outputs": [],
   "source": [
    "df['country'].unique()"
   ]
  },
  {
   "cell_type": "code",
   "execution_count": null,
   "id": "2fe42cc2",
   "metadata": {},
   "outputs": [],
   "source": [
    "df['country code'].unique()"
   ]
  },
  {
   "cell_type": "code",
   "execution_count": null,
   "id": "bc0b060e",
   "metadata": {},
   "outputs": [],
   "source": [
    "df['neighbourhood group'].unique()"
   ]
  },
  {
   "cell_type": "code",
   "execution_count": null,
   "id": "288a6007",
   "metadata": {},
   "outputs": [],
   "source": [
    "df.loc[df['country'].isnull(), 'country'] = 'United States'\n",
    "df.loc[df['country code'].isnull(), 'country code'] = 'US'"
   ]
  },
  {
   "cell_type": "code",
   "execution_count": null,
   "id": "76441513",
   "metadata": {},
   "outputs": [],
   "source": [
    "df_countries = pd.read_csv('countries.csv', header=0, sep=',', quotechar='\"')\n",
    "df_countries"
   ]
  },
  {
   "cell_type": "code",
   "execution_count": null,
   "id": "871cfae2",
   "metadata": {},
   "outputs": [],
   "source": [
    "df_countries.drop('English short name lower case', axis=1, inplace=True)\n",
    "df_countries"
   ]
  },
  {
   "cell_type": "code",
   "execution_count": null,
   "id": "1412fab1",
   "metadata": {
    "scrolled": true
   },
   "outputs": [],
   "source": [
    "#unir ambos datasets\n",
    "merged_df = pd.merge(df, df_countries, left_on='country code', right_on='Alpha-2 code',how=\"inner\")\n",
    "merged_df"
   ]
  },
  {
   "cell_type": "code",
   "execution_count": 143,
   "id": "43dc4ea6",
   "metadata": {},
   "outputs": [
    {
     "data": {
      "text/html": [
       "<div>\n",
       "<style scoped>\n",
       "    .dataframe tbody tr th:only-of-type {\n",
       "        vertical-align: middle;\n",
       "    }\n",
       "\n",
       "    .dataframe tbody tr th {\n",
       "        vertical-align: top;\n",
       "    }\n",
       "\n",
       "    .dataframe thead th {\n",
       "        text-align: right;\n",
       "    }\n",
       "</style>\n",
       "<table border=\"1\" class=\"dataframe\">\n",
       "  <thead>\n",
       "    <tr style=\"text-align: right;\">\n",
       "      <th></th>\n",
       "      <th>id</th>\n",
       "      <th>host id</th>\n",
       "      <th>lat</th>\n",
       "      <th>long</th>\n",
       "      <th>Construction year</th>\n",
       "      <th>price</th>\n",
       "      <th>service fee</th>\n",
       "      <th>minimum nights</th>\n",
       "      <th>number of reviews</th>\n",
       "      <th>reviews per month</th>\n",
       "      <th>review rate number</th>\n",
       "      <th>calculated host listings count</th>\n",
       "      <th>availability 365</th>\n",
       "    </tr>\n",
       "    <tr>\n",
       "      <th>country</th>\n",
       "      <th></th>\n",
       "      <th></th>\n",
       "      <th></th>\n",
       "      <th></th>\n",
       "      <th></th>\n",
       "      <th></th>\n",
       "      <th></th>\n",
       "      <th></th>\n",
       "      <th></th>\n",
       "      <th></th>\n",
       "      <th></th>\n",
       "      <th></th>\n",
       "      <th></th>\n",
       "    </tr>\n",
       "  </thead>\n",
       "  <tbody>\n",
       "    <tr>\n",
       "      <th>United States</th>\n",
       "      <td>2.017273e+07</td>\n",
       "      <td>4.922996e+10</td>\n",
       "      <td>40.727306</td>\n",
       "      <td>-73.947879</td>\n",
       "      <td>2012.496843</td>\n",
       "      <td>524.495159</td>\n",
       "      <td>125.02622</td>\n",
       "      <td>8.209837</td>\n",
       "      <td>33.113084</td>\n",
       "      <td>1.395684</td>\n",
       "      <td>3.320039</td>\n",
       "      <td>7.728671</td>\n",
       "      <td>153.590129</td>\n",
       "    </tr>\n",
       "  </tbody>\n",
       "</table>\n",
       "</div>"
      ],
      "text/plain": [
       "                         id       host id        lat       long  \\\n",
       "country                                                           \n",
       "United States  2.017273e+07  4.922996e+10  40.727306 -73.947879   \n",
       "\n",
       "               Construction year       price  service fee  minimum nights  \\\n",
       "country                                                                     \n",
       "United States        2012.496843  524.495159    125.02622        8.209837   \n",
       "\n",
       "               number of reviews  reviews per month  review rate number  \\\n",
       "country                                                                   \n",
       "United States          33.113084           1.395684            3.320039   \n",
       "\n",
       "               calculated host listings count  availability 365  \n",
       "country                                                          \n",
       "United States                        7.728671        153.590129  "
      ]
     },
     "execution_count": 143,
     "metadata": {},
     "output_type": "execute_result"
    }
   ],
   "source": [
    "df.groupby(by=['country']).mean()"
   ]
  },
  {
   "cell_type": "code",
   "execution_count": 144,
   "id": "1afd20d8",
   "metadata": {},
   "outputs": [
    {
     "data": {
      "text/html": [
       "<div>\n",
       "<style scoped>\n",
       "    .dataframe tbody tr th:only-of-type {\n",
       "        vertical-align: middle;\n",
       "    }\n",
       "\n",
       "    .dataframe tbody tr th {\n",
       "        vertical-align: top;\n",
       "    }\n",
       "\n",
       "    .dataframe thead th {\n",
       "        text-align: right;\n",
       "    }\n",
       "</style>\n",
       "<table border=\"1\" class=\"dataframe\">\n",
       "  <thead>\n",
       "    <tr style=\"text-align: right;\">\n",
       "      <th></th>\n",
       "      <th>id</th>\n",
       "      <th>host id</th>\n",
       "      <th>lat</th>\n",
       "      <th>long</th>\n",
       "      <th>Construction year</th>\n",
       "      <th>price</th>\n",
       "      <th>service fee</th>\n",
       "      <th>minimum nights</th>\n",
       "      <th>number of reviews</th>\n",
       "      <th>reviews per month</th>\n",
       "      <th>review rate number</th>\n",
       "      <th>calculated host listings count</th>\n",
       "      <th>availability 365</th>\n",
       "    </tr>\n",
       "    <tr>\n",
       "      <th>neighbourhood group</th>\n",
       "      <th></th>\n",
       "      <th></th>\n",
       "      <th></th>\n",
       "      <th></th>\n",
       "      <th></th>\n",
       "      <th></th>\n",
       "      <th></th>\n",
       "      <th></th>\n",
       "      <th></th>\n",
       "      <th></th>\n",
       "      <th></th>\n",
       "      <th></th>\n",
       "      <th></th>\n",
       "    </tr>\n",
       "  </thead>\n",
       "  <tbody>\n",
       "    <tr>\n",
       "      <th>Bronx</th>\n",
       "      <td>2.405612e+07</td>\n",
       "      <td>4.899466e+10</td>\n",
       "      <td>40.849142</td>\n",
       "      <td>-73.881995</td>\n",
       "      <td>2012.546291</td>\n",
       "      <td>528.650936</td>\n",
       "      <td>126.122161</td>\n",
       "      <td>5.544895</td>\n",
       "      <td>35.856705</td>\n",
       "      <td>1.720716</td>\n",
       "      <td>3.401109</td>\n",
       "      <td>2.759975</td>\n",
       "      <td>193.362577</td>\n",
       "    </tr>\n",
       "    <tr>\n",
       "      <th>Brooklyn</th>\n",
       "      <td>1.949310e+07</td>\n",
       "      <td>4.926755e+10</td>\n",
       "      <td>40.683050</td>\n",
       "      <td>-73.949929</td>\n",
       "      <td>2012.542707</td>\n",
       "      <td>525.661360</td>\n",
       "      <td>125.343657</td>\n",
       "      <td>7.607768</td>\n",
       "      <td>34.382396</td>\n",
       "      <td>1.332203</td>\n",
       "      <td>3.303837</td>\n",
       "      <td>2.907133</td>\n",
       "      <td>145.375133</td>\n",
       "    </tr>\n",
       "    <tr>\n",
       "      <th>Manhattan</th>\n",
       "      <td>1.954596e+07</td>\n",
       "      <td>4.928594e+10</td>\n",
       "      <td>40.765630</td>\n",
       "      <td>-73.974206</td>\n",
       "      <td>2012.463107</td>\n",
       "      <td>523.209116</td>\n",
       "      <td>124.408627</td>\n",
       "      <td>9.496337</td>\n",
       "      <td>29.818810</td>\n",
       "      <td>1.287736</td>\n",
       "      <td>3.310478</td>\n",
       "      <td>12.911514</td>\n",
       "      <td>151.035382</td>\n",
       "    </tr>\n",
       "    <tr>\n",
       "      <th>Queens</th>\n",
       "      <td>2.308759e+07</td>\n",
       "      <td>4.895372e+10</td>\n",
       "      <td>40.727384</td>\n",
       "      <td>-73.864982</td>\n",
       "      <td>2012.476276</td>\n",
       "      <td>523.834945</td>\n",
       "      <td>125.721043</td>\n",
       "      <td>6.863229</td>\n",
       "      <td>37.759969</td>\n",
       "      <td>1.819797</td>\n",
       "      <td>3.371998</td>\n",
       "      <td>7.997448</td>\n",
       "      <td>173.882368</td>\n",
       "    </tr>\n",
       "    <tr>\n",
       "      <th>Staten Island</th>\n",
       "      <td>2.378716e+07</td>\n",
       "      <td>4.958054e+10</td>\n",
       "      <td>40.612391</td>\n",
       "      <td>-74.104807</td>\n",
       "      <td>2012.103020</td>\n",
       "      <td>523.967880</td>\n",
       "      <td>124.375445</td>\n",
       "      <td>5.826786</td>\n",
       "      <td>41.143617</td>\n",
       "      <td>1.721223</td>\n",
       "      <td>3.443850</td>\n",
       "      <td>2.566607</td>\n",
       "      <td>203.104796</td>\n",
       "    </tr>\n",
       "    <tr>\n",
       "      <th>brookln</th>\n",
       "      <td>1.008516e+06</td>\n",
       "      <td>2.680241e+10</td>\n",
       "      <td>40.668290</td>\n",
       "      <td>-73.987790</td>\n",
       "      <td>2010.000000</td>\n",
       "      <td>580.000000</td>\n",
       "      <td>116.000000</td>\n",
       "      <td>4.000000</td>\n",
       "      <td>167.000000</td>\n",
       "      <td>1.340000</td>\n",
       "      <td>4.000000</td>\n",
       "      <td>3.000000</td>\n",
       "      <td>47.000000</td>\n",
       "    </tr>\n",
       "    <tr>\n",
       "      <th>manhatan</th>\n",
       "      <td>1.011277e+06</td>\n",
       "      <td>7.386253e+10</td>\n",
       "      <td>40.741920</td>\n",
       "      <td>-73.995010</td>\n",
       "      <td>2008.000000</td>\n",
       "      <td>460.000000</td>\n",
       "      <td>NaN</td>\n",
       "      <td>1.000000</td>\n",
       "      <td>260.000000</td>\n",
       "      <td>2.120000</td>\n",
       "      <td>3.000000</td>\n",
       "      <td>1.000000</td>\n",
       "      <td>325.000000</td>\n",
       "    </tr>\n",
       "  </tbody>\n",
       "</table>\n",
       "</div>"
      ],
      "text/plain": [
       "                               id       host id        lat       long  \\\n",
       "neighbourhood group                                                     \n",
       "Bronx                2.405612e+07  4.899466e+10  40.849142 -73.881995   \n",
       "Brooklyn             1.949310e+07  4.926755e+10  40.683050 -73.949929   \n",
       "Manhattan            1.954596e+07  4.928594e+10  40.765630 -73.974206   \n",
       "Queens               2.308759e+07  4.895372e+10  40.727384 -73.864982   \n",
       "Staten Island        2.378716e+07  4.958054e+10  40.612391 -74.104807   \n",
       "brookln              1.008516e+06  2.680241e+10  40.668290 -73.987790   \n",
       "manhatan             1.011277e+06  7.386253e+10  40.741920 -73.995010   \n",
       "\n",
       "                     Construction year       price  service fee  \\\n",
       "neighbourhood group                                               \n",
       "Bronx                      2012.546291  528.650936   126.122161   \n",
       "Brooklyn                   2012.542707  525.661360   125.343657   \n",
       "Manhattan                  2012.463107  523.209116   124.408627   \n",
       "Queens                     2012.476276  523.834945   125.721043   \n",
       "Staten Island              2012.103020  523.967880   124.375445   \n",
       "brookln                    2010.000000  580.000000   116.000000   \n",
       "manhatan                   2008.000000  460.000000          NaN   \n",
       "\n",
       "                     minimum nights  number of reviews  reviews per month  \\\n",
       "neighbourhood group                                                         \n",
       "Bronx                      5.544895          35.856705           1.720716   \n",
       "Brooklyn                   7.607768          34.382396           1.332203   \n",
       "Manhattan                  9.496337          29.818810           1.287736   \n",
       "Queens                     6.863229          37.759969           1.819797   \n",
       "Staten Island              5.826786          41.143617           1.721223   \n",
       "brookln                    4.000000         167.000000           1.340000   \n",
       "manhatan                   1.000000         260.000000           2.120000   \n",
       "\n",
       "                     review rate number  calculated host listings count  \\\n",
       "neighbourhood group                                                       \n",
       "Bronx                          3.401109                        2.759975   \n",
       "Brooklyn                       3.303837                        2.907133   \n",
       "Manhattan                      3.310478                       12.911514   \n",
       "Queens                         3.371998                        7.997448   \n",
       "Staten Island                  3.443850                        2.566607   \n",
       "brookln                        4.000000                        3.000000   \n",
       "manhatan                       3.000000                        1.000000   \n",
       "\n",
       "                     availability 365  \n",
       "neighbourhood group                    \n",
       "Bronx                      193.362577  \n",
       "Brooklyn                   145.375133  \n",
       "Manhattan                  151.035382  \n",
       "Queens                     173.882368  \n",
       "Staten Island              203.104796  \n",
       "brookln                     47.000000  \n",
       "manhatan                   325.000000  "
      ]
     },
     "execution_count": 144,
     "metadata": {},
     "output_type": "execute_result"
    }
   ],
   "source": [
    "df.groupby(by=['neighbourhood group']).mean()"
   ]
  },
  {
   "cell_type": "code",
   "execution_count": null,
   "id": "c8b193b8",
   "metadata": {},
   "outputs": [],
   "source": [
    "df.groupby(by=['neighbourhood group']).mean()"
   ]
  }
 ],
 "metadata": {
  "kernelspec": {
   "display_name": "Python 3",
   "language": "python",
   "name": "python3"
  },
  "language_info": {
   "codemirror_mode": {
    "name": "ipython",
    "version": 3
   },
   "file_extension": ".py",
   "mimetype": "text/x-python",
   "name": "python",
   "nbconvert_exporter": "python",
   "pygments_lexer": "ipython3",
   "version": "3.8.8"
  }
 },
 "nbformat": 4,
 "nbformat_minor": 5
}
