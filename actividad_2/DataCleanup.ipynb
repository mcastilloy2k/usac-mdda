{
 "cells": [
  {
   "cell_type": "markdown",
   "id": "498a0d14",
   "metadata": {},
   "source": [
    "# Documentacion de Pandas\n",
    "\n",
    "https://pandas.pydata.org/docs/user_guide/10min.html"
   ]
  },
  {
   "cell_type": "code",
   "execution_count": null,
   "id": "b4b491b4",
   "metadata": {},
   "outputs": [],
   "source": [
    "import pandas as pd"
   ]
  },
  {
   "cell_type": "code",
   "execution_count": null,
   "id": "ac853587",
   "metadata": {},
   "outputs": [],
   "source": [
    "df = pd.read_csv('archive.zip', compression='zip', header=0, sep=',', quotechar='\"')"
   ]
  },
  {
   "cell_type": "code",
   "execution_count": null,
   "id": "78c73632",
   "metadata": {},
   "outputs": [],
   "source": [
    "df.sample(n=20, random_state=1)"
   ]
  },
  {
   "cell_type": "code",
   "execution_count": null,
   "id": "6e9082f2",
   "metadata": {},
   "outputs": [],
   "source": [
    "df.sample(n=20, random_state=1, weights='price')"
   ]
  },
  {
   "cell_type": "code",
   "execution_count": null,
   "id": "55e20b8a",
   "metadata": {},
   "outputs": [],
   "source": [
    "df.head()\n",
    "df.info(memory_usage=\"deep\")"
   ]
  },
  {
   "cell_type": "code",
   "execution_count": null,
   "id": "64e2a8fe",
   "metadata": {},
   "outputs": [],
   "source": [
    "df.loc[~df.license.isnull()]"
   ]
  },
  {
   "cell_type": "code",
   "execution_count": null,
   "id": "10a7f8b9",
   "metadata": {},
   "outputs": [],
   "source": [
    "#low memory solo funciona con el engine de C para numpy.  Por defecto pandas usa pyarrow.  Tambien esta el motor de python\n",
    "#que es mas flexible pero mas lento\n",
    "#Pandas no soporta fechas en su casting desde csv, hay que user el parametro parse_dates para indicar que columnas son fechas\n",
    "parse_dates=['last review']\n",
    "dtypes = {'license': str}\n",
    "df = pd.read_csv('archive.zip', compression='zip', header=0, sep=',', quotechar='\"', dtype=dtypes, parse_dates=parse_dates)\n",
    "df.head()"
   ]
  },
  {
   "cell_type": "code",
   "execution_count": null,
   "id": "af546cbd",
   "metadata": {},
   "outputs": [],
   "source": [
    "df.info(memory_usage=\"deep\")"
   ]
  },
  {
   "cell_type": "code",
   "execution_count": null,
   "id": "06db6ca0",
   "metadata": {},
   "outputs": [],
   "source": [
    "#Conteo de nulls por columna\n",
    "df_nulls = df.isnull().sum().sort_values(ascending=False).to_frame('count')\n",
    "#Conteo total de filas\n",
    "df_nulls['total'] = df.shape[0]\n",
    "#% de columnas vacias\n",
    "df_nulls['%'] = df_nulls['count']/df_nulls['total']\n",
    "df_nulls"
   ]
  },
  {
   "cell_type": "code",
   "execution_count": null,
   "id": "1c7bebfd",
   "metadata": {},
   "outputs": [],
   "source": [
    "df.drop('license', axis=1, inplace=True)"
   ]
  },
  {
   "cell_type": "code",
   "execution_count": null,
   "id": "60cbee98",
   "metadata": {},
   "outputs": [],
   "source": [
    "df.info(memory_usage=\"deep\")"
   ]
  },
  {
   "cell_type": "code",
   "execution_count": null,
   "id": "c6cc02d6",
   "metadata": {
    "scrolled": true
   },
   "outputs": [],
   "source": [
    "#Revisar los outliers con un simple min y max\n",
    "df.agg([min, max])"
   ]
  },
  {
   "cell_type": "code",
   "execution_count": null,
   "id": "f1fa6f39",
   "metadata": {},
   "outputs": [],
   "source": [
    "df['price'] = pd.to_numeric(df['price'].str.replace('$','', regex=False), errors='coerce')"
   ]
  },
  {
   "cell_type": "code",
   "execution_count": null,
   "id": "962b3d1b",
   "metadata": {},
   "outputs": [],
   "source": [
    "df['service fee'] = pd.to_numeric(df['service fee'].str.replace('$','', regex=False), errors='coerce')"
   ]
  },
  {
   "cell_type": "code",
   "execution_count": null,
   "id": "4b6a4091",
   "metadata": {},
   "outputs": [],
   "source": [
    "df.agg([min, max])"
   ]
  },
  {
   "cell_type": "code",
   "execution_count": null,
   "id": "1f9dd3de",
   "metadata": {
    "scrolled": true
   },
   "outputs": [],
   "source": [
    "df[df['last review'].apply(lambda x: x.year) > 2022]"
   ]
  },
  {
   "cell_type": "code",
   "execution_count": null,
   "id": "5fa57d92",
   "metadata": {},
   "outputs": [],
   "source": [
    "df = df[df['last review'].apply(lambda x: x.year) <= 2022]\n",
    "df"
   ]
  },
  {
   "cell_type": "code",
   "execution_count": null,
   "id": "0a38586d",
   "metadata": {},
   "outputs": [],
   "source": [
    "#Revisar duplicados\n",
    "df.duplicated().sum()"
   ]
  },
  {
   "cell_type": "code",
   "execution_count": null,
   "id": "eb3fc074",
   "metadata": {},
   "outputs": [],
   "source": [
    "df.duplicated(subset=['host name', 'lat', 'long']).sum()"
   ]
  },
  {
   "cell_type": "code",
   "execution_count": null,
   "id": "0552fa42",
   "metadata": {},
   "outputs": [],
   "source": [
    "df.drop_duplicates(subset=['host name', 'lat', 'long'], inplace=True)"
   ]
  },
  {
   "cell_type": "code",
   "execution_count": null,
   "id": "e7c33328",
   "metadata": {},
   "outputs": [],
   "source": [
    "df.info(memory_usage=\"deep\")"
   ]
  },
  {
   "cell_type": "code",
   "execution_count": null,
   "id": "e83fc0f6",
   "metadata": {},
   "outputs": [],
   "source": [
    "df['country'].unique()"
   ]
  },
  {
   "cell_type": "code",
   "execution_count": null,
   "id": "ec7cf07d",
   "metadata": {},
   "outputs": [],
   "source": [
    "df['country code'].unique()"
   ]
  },
  {
   "cell_type": "code",
   "execution_count": null,
   "id": "7107bc15",
   "metadata": {},
   "outputs": [],
   "source": [
    "df['neighbourhood group'].unique()"
   ]
  },
  {
   "cell_type": "code",
   "execution_count": null,
   "id": "7cf50892",
   "metadata": {},
   "outputs": [],
   "source": [
    "df.loc[df['country'].isnull(), 'country'] = 'United States'\n",
    "df.loc[df['country code'].isnull(), 'country code'] = 'US'"
   ]
  },
  {
   "cell_type": "code",
   "execution_count": null,
   "id": "d886d32c",
   "metadata": {},
   "outputs": [],
   "source": [
    "df_countries = pd.read_csv('countries.csv', header=0, sep=',', quotechar='\"')\n",
    "df_countries"
   ]
  },
  {
   "cell_type": "code",
   "execution_count": null,
   "id": "b6c52929",
   "metadata": {},
   "outputs": [],
   "source": [
    "df_countries.drop('English short name lower case', axis=1, inplace=True)\n",
    "df_countries"
   ]
  },
  {
   "cell_type": "code",
   "execution_count": null,
   "id": "a925e5fc",
   "metadata": {
    "scrolled": true
   },
   "outputs": [],
   "source": [
    "#unir ambos datasets\n",
    "merged_df = pd.merge(df, df_countries, left_on='country code', right_on='Alpha-2 code',how=\"inner\")\n",
    "merged_df"
   ]
  },
  {
   "cell_type": "code",
   "execution_count": null,
   "id": "74389d9d",
   "metadata": {},
   "outputs": [],
   "source": [
    "df.groupby(by=['country']).mean()"
   ]
  },
  {
   "cell_type": "code",
   "execution_count": null,
   "id": "ff3d690c",
   "metadata": {},
   "outputs": [],
   "source": [
    "df.groupby(by=['neighbourhood group']).mean()"
   ]
  },
  {
   "cell_type": "code",
   "execution_count": null,
   "id": "fa0dd261",
   "metadata": {},
   "outputs": [],
   "source": [
    "df.groupby(by=['neighbourhood group'])['service fee'].mean()"
   ]
  },
  {
   "cell_type": "code",
   "execution_count": null,
   "id": "a9a34938",
   "metadata": {},
   "outputs": [],
   "source": [
    "df.loc[df['neighbourhood group']=='brookln', 'neighbourhood group'] = 'Brooklyn'\n",
    "df.loc[df['neighbourhood group']=='manhatan', 'neighbourhood group'] = 'Manhattan'\n",
    "df.groupby(by=['neighbourhood group'])['service fee'].mean()"
   ]
  },
  {
   "cell_type": "code",
   "execution_count": null,
   "id": "bee0d510",
   "metadata": {},
   "outputs": [],
   "source": [
    "df.groupby(by=['neighbourhood group']).agg({'service fee':{ 'mean', 'min', 'max' }})"
   ]
  }
 ],
 "metadata": {
  "kernelspec": {
   "display_name": "Python 3",
   "language": "python",
   "name": "python3"
  },
  "language_info": {
   "codemirror_mode": {
    "name": "ipython",
    "version": 3
   },
   "file_extension": ".py",
   "mimetype": "text/x-python",
   "name": "python",
   "nbconvert_exporter": "python",
   "pygments_lexer": "ipython3",
   "version": "3.8.8"
  }
 },
 "nbformat": 4,
 "nbformat_minor": 5
}
